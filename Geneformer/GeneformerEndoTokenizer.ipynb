{
 "cells": [
  {
   "cell_type": "markdown",
   "id": "78e0e0f2-6dcc-4320-96b9-1fb85c126682",
   "metadata": {},
   "source": [
    "This notebook takes gene expression data along with metadata and converts it to h5ad file that will be used in Geneformer tokenizer to creat the dataset used for Genformer inference. Gene names are converted to Ensembl IDs via Ensembl Biomart, the set of gene neames and ensemble IDs is saved in 'mart_export.txt'. "
   ]
  },
  {
   "cell_type": "code",
   "execution_count": 1,
   "id": "499717d3-1c16-4d46-b178-0cf47face67d",
   "metadata": {},
   "outputs": [],
   "source": [
    "import scipy.sparse as sparse\n",
    "import anndata as ad\n",
    "import scanpy as sc\n",
    "from geneformerCopy import TranscriptomeTokenizer\n",
    "import pandas as pd\n",
    "import numpy as np"
   ]
  },
  {
   "cell_type": "code",
   "execution_count": 2,
   "id": "2b85d2a5-90ef-49f7-9eaf-514f4a708cd3",
   "metadata": {},
   "outputs": [],
   "source": [
    "input_file='C:/Users/zainsamadi/Downloads/Endothelium.h5ad'"
   ]
  },
  {
   "cell_type": "code",
   "execution_count": 3,
   "id": "c3edc8ec-c719-4e5b-848b-c0e7a6945580",
   "metadata": {},
   "outputs": [],
   "source": [
    "adata=sc.read(input_file)"
   ]
  },
  {
   "cell_type": "code",
   "execution_count": 4,
   "id": "639ae6bf-87ff-4052-a575-020fc36f388d",
   "metadata": {},
   "outputs": [
    {
     "data": {
      "text/plain": [
       "AnnData object with n_obs × n_vars = 73195 × 61759\n",
       "    obs: 'donor_id', 'tissue_in_publication', 'anatomical_position', 'method', 'cdna_plate', 'library_plate', 'notes', 'cdna_well', 'assay_ontology_term_id', 'sample_id', 'replicate', '10X_run', 'ambient_removal', 'donor_method', 'donor_assay', 'donor_tissue', 'donor_tissue_assay', 'cell_type_ontology_term_id', 'compartment', 'broad_cell_class', 'free_annotation', 'manually_annotated', 'published_2022', 'n_genes_by_counts', 'total_counts', 'total_counts_mt', 'pct_counts_mt', 'total_counts_ercc', 'pct_counts_ercc', '_scvi_batch', '_scvi_labels', 'scvi_leiden_donorassay_full', 'ethnicity_original', 'scvi_leiden_res05_compartment', 'sample_number', 'organism_ontology_term_id', 'suspension_type', 'tissue_type', 'disease_ontology_term_id', 'is_primary_data', 'tissue_ontology_term_id', 'sex_ontology_term_id', 'self_reported_ethnicity_ontology_term_id', 'development_stage_ontology_term_id', 'cell_type', 'assay', 'disease', 'organism', 'sex', 'tissue', 'self_reported_ethnicity', 'development_stage', 'observation_joinid'\n",
       "    var: 'ensembl_id', 'genome', 'mt', 'ercc', 'n_cells_by_counts', 'mean_counts', 'pct_dropout_by_counts', 'total_counts', 'mean', 'std', 'feature_is_filtered', 'feature_name', 'feature_reference', 'feature_biotype', 'feature_length', 'feature_type'\n",
       "    uns: '_scvi_manager_uuid', '_scvi_uuid', '_training_mode', 'assay_ontology_term_id_colors', 'citation', 'compartment_colors', 'donor_id_colors', 'leiden', 'method_colors', 'neighbors', 'pca', 'schema_reference', 'schema_version', 'sex_ontology_term_id_colors', 'tissue_in_publication_colors', 'title', 'umap'\n",
       "    obsm: 'X_compartment_uncorrected_umap', 'X_pca', 'X_scvi', 'X_umap', 'X_umap_compartment_scvi_donorassay', 'X_umap_scvi_full_donorassay', 'X_uncorrected_umap'\n",
       "    varm: 'PCs'\n",
       "    layers: 'decontXcounts', 'scale_data'\n",
       "    obsp: 'connectivities', 'distances'"
      ]
     },
     "execution_count": 4,
     "metadata": {},
     "output_type": "execute_result"
    }
   ],
   "source": [
    "adata"
   ]
  },
  {
   "cell_type": "code",
   "execution_count": 5,
   "id": "e5de816a-b69d-4890-8c75-e7d71018ebe3",
   "metadata": {},
   "outputs": [
    {
     "data": {
      "text/plain": [
       "['lymph node', 'thymus', 'liver', 'heart', 'lung', ..., 'buccal mucosa', 'cornea', 'jejunum', 'endocrine pancreas', 'eyelid']\n",
       "Length: 69\n",
       "Categories (69, object): ['endocrine pancreas', 'exocrine pancreas', 'lymph node', 'large intestine', ..., 'anterior part of tongue', 'posterior part of tongue', 'bladder organ', 'chorioretinal region']"
      ]
     },
     "execution_count": 5,
     "metadata": {},
     "output_type": "execute_result"
    }
   ],
   "source": [
    "adata.obs['tissue'].unique()"
   ]
  },
  {
   "cell_type": "code",
   "execution_count": 6,
   "id": "4e68e4e7-e9e2-4613-96d0-15d61131ee01",
   "metadata": {},
   "outputs": [
    {
     "data": {
      "text/plain": [
       "Index(['ENSG00000000003', 'ENSG00000000005', 'ENSG00000000419',\n",
       "       'ENSG00000000457', 'ENSG00000000460', 'ENSG00000000938',\n",
       "       'ENSG00000000971', 'ENSG00000001036', 'ENSG00000001084',\n",
       "       'ENSG00000001167',\n",
       "       ...\n",
       "       'ENSG00000290126', 'ENSG00000290127', 'ENSG00000290146',\n",
       "       'ENSG00000290147', 'ENSG00000290149', 'ENSG00000290162',\n",
       "       'ENSG00000290163', 'ENSG00000290164', 'ENSG00000290165',\n",
       "       'ENSG00000290166'],\n",
       "      dtype='object', name='ensg', length=61759)"
      ]
     },
     "execution_count": 6,
     "metadata": {},
     "output_type": "execute_result"
    }
   ],
   "source": [
    "adata.var['feature_reference'].keys()"
   ]
  },
  {
   "cell_type": "code",
   "execution_count": 7,
   "id": "e274d1f8-9d82-4d81-9ef4-d9b6adfb7775",
   "metadata": {},
   "outputs": [],
   "source": [
    "sc.pp.filter_cells(adata, min_genes=5)"
   ]
  },
  {
   "cell_type": "code",
   "execution_count": 8,
   "id": "6a669401-443d-46ec-bfcd-a6e58659fa9b",
   "metadata": {},
   "outputs": [],
   "source": [
    "adatan=ad.AnnData(adata.X)"
   ]
  },
  {
   "cell_type": "code",
   "execution_count": 9,
   "id": "a84a35d1-d570-4c16-a35f-0a55cdbe85c6",
   "metadata": {},
   "outputs": [],
   "source": [
    "\n",
    "# ctypes=expr_df['cellType'].values\n",
    "filter_pass=[0 if typesi=='unknown' else 1 for typesi in adata.obs['tissue']] # these cells are flagged to be discarded in geneformer "
   ]
  },
  {
   "cell_type": "code",
   "execution_count": 10,
   "id": "4d40e551-0d73-4cb7-95f0-56c73e85828b",
   "metadata": {},
   "outputs": [
    {
     "data": {
      "text/plain": [
       "np.float32(8.859213)"
      ]
     },
     "execution_count": 10,
     "metadata": {},
     "output_type": "execute_result"
    }
   ],
   "source": [
    "np.max(adata.X)"
   ]
  },
  {
   "cell_type": "code",
   "execution_count": 11,
   "id": "67d5c4ce-02ea-455c-9c58-4857d06a366e",
   "metadata": {},
   "outputs": [],
   "source": [
    "\n",
    "adatan.obs['filter_pass']=filter_pass\n",
    "\n"
   ]
  },
  {
   "cell_type": "code",
   "execution_count": 12,
   "id": "5fe2d378-6c10-4f9b-8279-37cc8a02624b",
   "metadata": {},
   "outputs": [],
   "source": [
    "adatan.obs[\"cell_type\"]=adata.obs['free_annotation'].values\n",
    "adatan.obs[\"organ\"]=adata.obs['tissue'].values\n",
    "adatan.obs[\"n_counts\"]=adata.obs['total_counts'].values\n",
    "adatan.var[\"ensembl_id\"]=adata.var['feature_reference'].keys()\n",
    "\n"
   ]
  },
  {
   "cell_type": "code",
   "execution_count": 13,
   "id": "0a8f30a3-b28d-466e-af12-8d0bbb1406a5",
   "metadata": {},
   "outputs": [
    {
     "data": {
      "text/plain": [
       "np.float64(28981910.0)"
      ]
     },
     "execution_count": 13,
     "metadata": {},
     "output_type": "execute_result"
    }
   ],
   "source": [
    "np.max(adatan.obs['n_counts'])"
   ]
  },
  {
   "cell_type": "code",
   "execution_count": 14,
   "id": "79805525-8b9b-4737-9ae0-8daf3a1b5102",
   "metadata": {},
   "outputs": [
    {
     "data": {
      "text/plain": [
       "73195"
      ]
     },
     "execution_count": 14,
     "metadata": {},
     "output_type": "execute_result"
    }
   ],
   "source": [
    "len(adatan)"
   ]
  },
  {
   "cell_type": "code",
   "execution_count": 15,
   "id": "85988fe7-6a89-427c-9063-74ba05288599",
   "metadata": {},
   "outputs": [
    {
     "data": {
      "text/plain": [
       "AnnData object with n_obs × n_vars = 73195 × 61759\n",
       "    obs: 'filter_pass', 'cell_type', 'organ', 'n_counts'\n",
       "    var: 'ensembl_id'"
      ]
     },
     "execution_count": 15,
     "metadata": {},
     "output_type": "execute_result"
    }
   ],
   "source": [
    "adatan"
   ]
  },
  {
   "cell_type": "code",
   "execution_count": 16,
   "id": "4aece4d2-dd1c-4628-857f-fe95c8a19fa8",
   "metadata": {},
   "outputs": [
    {
     "data": {
      "text/plain": [
       "0        ENSG00000000003\n",
       "1        ENSG00000000005\n",
       "2        ENSG00000000419\n",
       "3        ENSG00000000457\n",
       "4        ENSG00000000460\n",
       "              ...       \n",
       "61754    ENSG00000290162\n",
       "61755    ENSG00000290163\n",
       "61756    ENSG00000290164\n",
       "61757    ENSG00000290165\n",
       "61758    ENSG00000290166\n",
       "Name: ensembl_id, Length: 61759, dtype: object"
      ]
     },
     "execution_count": 16,
     "metadata": {},
     "output_type": "execute_result"
    }
   ],
   "source": [
    "adatan.var['ensembl_id']"
   ]
  },
  {
   "cell_type": "code",
   "execution_count": 17,
   "id": "3adce70d-7509-4413-838e-9a7174a7e7f0",
   "metadata": {},
   "outputs": [],
   "source": [
    "sc.write(\"endo_gex.h5ad\", adatan)"
   ]
  },
  {
   "cell_type": "code",
   "execution_count": 18,
   "id": "fee9ea11-b51b-4fa1-bf49-9f1357b55ba3",
   "metadata": {},
   "outputs": [
    {
     "data": {
      "text/plain": [
       "AnnData object with n_obs × n_vars = 73195 × 61759\n",
       "    obs: 'filter_pass', 'cell_type', 'organ', 'n_counts'\n",
       "    var: 'ensembl_id'"
      ]
     },
     "execution_count": 18,
     "metadata": {},
     "output_type": "execute_result"
    }
   ],
   "source": [
    "adatan"
   ]
  },
  {
   "cell_type": "code",
   "execution_count": 21,
   "id": "cd8b6010-1464-453f-967c-1acf7ec603b2",
   "metadata": {},
   "outputs": [
    {
     "name": "stdout",
     "output_type": "stream",
     "text": [
      "Tokenizing C:\\Users\\zainsamadi\\pyprojects\\Geneformer\\examples\\endo_gex.h5ad\n"
     ]
    },
    {
     "name": "stderr",
     "output_type": "stream",
     "text": [
      "100%|████████████████████████████████████████████████████████████████████████████████| 143/143 [01:05<00:00,  2.17it/s]\n",
      "C:\\Users\\zainsamadi\\pyprojects\\Geneformer\\gnformer\\Lib\\site-packages\\anndata\\_core\\anndata.py:787: ImplicitModificationWarning: Trying to modify index of attribute `.obs` of view, initializing view as actual.\n",
      "  getattr(self, attr).index = value\n",
      "C:\\Users\\zainsamadi\\pyprojects\\Geneformer\\gnformer\\Lib\\site-packages\\anndata\\_core\\anndata.py:1758: UserWarning: Variable names are not unique. To make them unique, call `.var_names_make_unique`.\n",
      "  utils.warn_names_duplicates(\"var\")\n",
      "C:\\Users\\zainsamadi\\pyprojects\\Geneformer\\examples\\geneformerCopy\\tokenizer.py:495: FutureWarning: Series.__getitem__ treating keys as positions is deprecated. In a future version, integer keys will always be treated as labels (consistent with DataFrame behavior). To access a value by position, use `ser.iloc[pos]`\n",
      "  for i in adata.var[\"ensembl_id_collapsed\"][coding_miRNA_loc]\n",
      "C:\\Users\\zainsamadi\\pyprojects\\Geneformer\\examples\\geneformerCopy\\tokenizer.py:498: FutureWarning: Series.__getitem__ treating keys as positions is deprecated. In a future version, integer keys will always be treated as labels (consistent with DataFrame behavior). To access a value by position, use `ser.iloc[pos]`\n",
      "  coding_miRNA_ids = adata.var[\"ensembl_id_collapsed\"][coding_miRNA_loc]\n"
     ]
    },
    {
     "name": "stdout",
     "output_type": "stream",
     "text": [
      "Creating dataset.\n"
     ]
    }
   ],
   "source": [
    "# These are default 95M files\n",
    "# gene_median_file=GENE_MEDIAN_FILE,\n",
    "# token_dictionary_file=TOKEN_DICTIONARY_FILE,\n",
    "# gene_mapping_file=ENSEMBL_MAPPING_FILE,\n",
    "# tk = TranscriptomeTokenizerz({\"cell_type\": \"cell_type\", \"organ\": \"organ\"},nproc=16)\n",
    "# tokenized_datasets=tk.tokenize_data(\"C:/Users/zainsamadi/pyprojects/Geneformer\", \n",
    "#                  \"endo_gex_tokens\", \n",
    "#                  \"endo\", \n",
    "#                  file_format=\"h5ad\", adatain=adatan)\n",
    "\n",
    "\n",
    "tk = TranscriptomeTokenizer({\"cell_type\": \"cell_type\", \"organ\": \"organ\"},nproc=1)\n",
    "tokenized_datasets=tk.tokenize_data(\"C:/Users/zainsamadi/pyprojects/Geneformer/examples\", \n",
    "                 \"endo_gex_tokens\", \n",
    "                 \"endo\", \n",
    "                 file_format=\"h5ad\")"
   ]
  },
  {
   "cell_type": "code",
   "execution_count": null,
   "id": "c1eeb4fe-6af8-4f98-8659-b116cfe0bbb1",
   "metadata": {},
   "outputs": [],
   "source": []
  },
  {
   "cell_type": "code",
   "execution_count": null,
   "id": "fb769599-552a-4480-9f1c-6dbfcdee05e5",
   "metadata": {},
   "outputs": [],
   "source": []
  }
 ],
 "metadata": {
  "kernelspec": {
   "display_name": "Python 3 (ipykernel)",
   "language": "python",
   "name": "python3"
  },
  "language_info": {
   "codemirror_mode": {
    "name": "ipython",
    "version": 3
   },
   "file_extension": ".py",
   "mimetype": "text/x-python",
   "name": "python",
   "nbconvert_exporter": "python",
   "pygments_lexer": "ipython3",
   "version": "3.11.9"
  }
 },
 "nbformat": 4,
 "nbformat_minor": 5
}
